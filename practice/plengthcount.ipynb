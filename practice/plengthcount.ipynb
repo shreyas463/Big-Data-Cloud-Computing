{
 "cells": [
  {
   "cell_type": "code",
   "execution_count": 1,
   "id": "f271c97c-8b8a-4a6a-b871-68f18ff97025",
   "metadata": {},
   "outputs": [
    {
     "name": "stdout",
     "output_type": "stream",
     "text": [
      "Writing plengthcount.py\n"
     ]
    }
   ],
   "source": [
    "%%file plengthcount.py\n",
    "import re\n",
    "import json\n",
    "\n",
    "from mrjob.job import MRJob\n",
    "\n",
    "PUNC_RE = re.compile(r\"[^a-z]\")\n",
    "\n",
    "class WordLengthFrequency(MRJob):\n",
    "\n",
    "    def mapper(self, _, line):\n",
    "        thelist = line.split()\n",
    "        for x in thelist:\n",
    "            y = x.lower()\n",
    "            z = re.sub(PUNC_RE, '', y)\n",
    "            w = len(z)\n",
    "            if w > 3:\n",
    "                yield w, {\"example\":z, \"count\":1}\n",
    "\n",
    "    def reducer(self, key, values):\n",
    "        example = ''\n",
    "        count = 0\n",
    "        for x in values:\n",
    "            example = x[\"example\"]\n",
    "            count += x[\"count\"]\n",
    "        if len(example) > 0:\n",
    "            yield key, {\"example\":example, \"count\":count}\n",
    "\n",
    "\n",
    "if __name__ == '__main__':\n",
    "    WordLengthFrequency.run()"
   ]
  },
  {
   "cell_type": "code",
   "execution_count": 2,
   "id": "4af553c5-15ef-421c-9e0b-e4c0c0029491",
   "metadata": {},
   "outputs": [
    {
     "name": "stdout",
     "output_type": "stream",
     "text": [
      "No configs found; falling back on auto-configuration\n",
      "No configs specified for inline runner\n",
      "Creating temp directory /var/folders/pc/ywv0gg5j7ps1_n751j2vj8rw0000gn/T/plengthcount.shreyas.20240213.220534.718544\n",
      "Running step 1 of 1...\n",
      "job output is in /var/folders/pc/ywv0gg5j7ps1_n751j2vj8rw0000gn/T/plengthcount.shreyas.20240213.220534.718544/output\n",
      "Streaming final output from /var/folders/pc/ywv0gg5j7ps1_n751j2vj8rw0000gn/T/plengthcount.shreyas.20240213.220534.718544/output...\n",
      "6\t{\"example\": \"ebooks\", \"count\": 2240}\n",
      "7\t{\"example\": \"produce\", \"count\": 1920}\n",
      "8\t{\"example\": \"literary\", \"count\": 863}\n",
      "9\t{\"example\": \"subscribe\", \"count\": 675}\n",
      "40\t{\"example\": \"importantunimportantunimportantimportant\", \"count\": 1}\n",
      "5\t{\"example\": \"about\", \"count\": 3579}\n",
      "10\t{\"example\": \"newsletter\", \"count\": 376}\n",
      "11\t{\"example\": \"gutenbergtm\", \"count\": 241}\n",
      "12\t{\"example\": \"requirements\", \"count\": 80}\n",
      "13\t{\"example\": \"international\", \"count\": 29}\n",
      "14\t{\"example\": \"identification\", \"count\": 24}\n",
      "15\t{\"example\": \"wwwgutenbergorg\", \"count\": 10}\n",
      "16\t{\"example\": \"unenforceability\", \"count\": 2}\n",
      "18\t{\"example\": \"trademarkcopyright\", \"count\": 2}\n",
      "19\t{\"example\": \"adventuresbeginning\", \"count\": 1}\n",
      "20\t{\"example\": \"httpswwwgutenbergorg\", \"count\": 1}\n",
      "21\t{\"example\": \"wwwgutenbergorgdonate\", \"count\": 2}\n",
      "22\t{\"example\": \"wwwgutenbergorgcontact\", \"count\": 2}\n",
      "27\t{\"example\": \"meanstomakeanythingprettier\", \"count\": 1}\n",
      "4\t{\"example\": \"hear\", \"count\": 6087}\n",
      "Removing temp directory /var/folders/pc/ywv0gg5j7ps1_n751j2vj8rw0000gn/T/plengthcount.shreyas.20240213.220534.718544...\n"
     ]
    }
   ],
   "source": [
    "!python plengthcount.py alice.txt"
   ]
  },
  {
   "cell_type": "code",
   "execution_count": null,
   "id": "2e333acd-e47d-4f22-b92e-9ef261efcaca",
   "metadata": {},
   "outputs": [],
   "source": []
  }
 ],
 "metadata": {
  "kernelspec": {
   "display_name": "Python 3 (ipykernel)",
   "language": "python",
   "name": "python3"
  },
  "language_info": {
   "codemirror_mode": {
    "name": "ipython",
    "version": 3
   },
   "file_extension": ".py",
   "mimetype": "text/x-python",
   "name": "python",
   "nbconvert_exporter": "python",
   "pygments_lexer": "ipython3",
   "version": "3.11.7"
  }
 },
 "nbformat": 4,
 "nbformat_minor": 5
}
